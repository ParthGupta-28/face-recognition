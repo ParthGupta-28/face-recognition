{
 "cells": [
  {
   "cell_type": "code",
   "execution_count": 1,
   "metadata": {},
   "outputs": [],
   "source": [
    "import cv2\n",
    "import torch\n",
    "from torch import nn\n",
    "from torch.nn import functional as F\n",
    "import numpy as np\n",
    "from pymongo import MongoClient\n",
    "from torchvision import transforms\n",
    "from PIL import Image"
   ]
  },
  {
   "cell_type": "code",
   "execution_count": 2,
   "metadata": {},
   "outputs": [],
   "source": [
    "mongo_client = MongoClient(\"mongodb://localhost:27017/\")\n",
    "db = mongo_client[\"faceRecog\"]\n",
    "collection = db[\"faceData\"]"
   ]
  },
  {
   "cell_type": "code",
   "execution_count": 3,
   "metadata": {},
   "outputs": [
    {
     "data": {
      "text/plain": [
       "device(type='cuda')"
      ]
     },
     "execution_count": 3,
     "metadata": {},
     "output_type": "execute_result"
    }
   ],
   "source": [
    "device = torch.device(\"cuda\" if torch.cuda.is_available() else \"cpu\")\n",
    "device"
   ]
  },
  {
   "cell_type": "code",
   "execution_count": 4,
   "metadata": {},
   "outputs": [
    {
     "data": {
      "text/plain": [
       "FaceRecogModel(\n",
       "  (conv1): Conv2d(3, 6, kernel_size=(5, 5), stride=(1, 1))\n",
       "  (pool): MaxPool2d(kernel_size=2, stride=2, padding=0, dilation=1, ceil_mode=False)\n",
       "  (conv2): Conv2d(6, 16, kernel_size=(5, 5), stride=(1, 1))\n",
       "  (fc1): Linear(in_features=13456, out_features=120, bias=True)\n",
       "  (fc2): Linear(in_features=120, out_features=84, bias=True)\n",
       "  (fc3): Linear(in_features=84, out_features=10, bias=True)\n",
       "  (flatten): Flatten(start_dim=1, end_dim=-1)\n",
       ")"
      ]
     },
     "execution_count": 4,
     "metadata": {},
     "output_type": "execute_result"
    }
   ],
   "source": [
    "class FaceRecogModel(nn.Module):\n",
    "    def __init__(self):\n",
    "        super(FaceRecogModel, self).__init__()\n",
    "        self.conv1 = nn.Conv2d(3, 6, 5)\n",
    "        self.pool = nn.MaxPool2d(2, 2)\n",
    "        self.conv2 = nn.Conv2d(6, 16, 5)\n",
    "\n",
    "        self.linear_dims = None\n",
    "        x = torch.randn(1, 3, 128, 128)\n",
    "        self.convs(x)\n",
    "        self.fc1 = nn.Linear(self.linear_dims, 120)\n",
    "        self.fc2 = nn.Linear(120, 84)\n",
    "        self.fc3 = nn.Linear(84, 10)\n",
    "        self.flatten = nn.Flatten()\n",
    "\n",
    "    def convs(self ,x):\n",
    "        x = self.pool(F.relu(self.conv1(x)))\n",
    "        x = self.pool(F.relu(self.conv2(x)))\n",
    "        if self.linear_dims is None:\n",
    "            self.linear_dims = x.shape[1]*x.shape[2]*x.shape[3]\n",
    "            print(self.linear_dims)\n",
    "        return x\n",
    "\n",
    "    def forward(self, x):\n",
    "        x = self.pool(F.relu(self.conv1(x)))\n",
    "        x = self.pool(F.relu(self.conv2(x)))\n",
    "        x = self.flatten(x)\n",
    "        x = F.leaky_relu(self.fc1(x))\n",
    "        x = F.leaky_relu(self.fc2(x))\n",
    "        x = self.fc3(x)\n",
    "        return x\n",
    "    \n",
    "model = torch.load('model_weights.pt')\n",
    "model.to(device)\n",
    "model.eval()"
   ]
  },
  {
   "cell_type": "code",
   "execution_count": 27,
   "metadata": {},
   "outputs": [],
   "source": [
    "documents = collection.find()\n",
    "database = []\n",
    "\n",
    "for doc in documents:\n",
    "    name = doc['name']\n",
    "    face_vector = doc['face_vector']\n",
    "    tensor = torch.tensor(face_vector).to(device)\n",
    "    data = {'name': name, 'face_vector': tensor}\n",
    "    database.append(data)"
   ]
  },
  {
   "cell_type": "code",
   "execution_count": 6,
   "metadata": {},
   "outputs": [],
   "source": [
    "transform = transforms.Compose([\n",
    "    transforms.Resize((128, 128)),\n",
    "    transforms.ToTensor(),\n",
    "    transforms.Normalize((0.5, 0.5, 0.5), (0.5, 0.5, 0.5))\n",
    "])"
   ]
  },
  {
   "cell_type": "code",
   "execution_count": 28,
   "metadata": {},
   "outputs": [],
   "source": [
    "lst = []\n",
    "tens = []\n",
    "def predictFace(face):\n",
    "    imgarr = Image.fromarray(face)\n",
    "    tensor_image = transform(imgarr).unsqueeze(0).cuda()\n",
    "    output = model(tensor_image)\n",
    "\n",
    "    current_similarity = 0\n",
    "    name = \"\"\n",
    "    for data in database:\n",
    "        similarity = F.cosine_similarity(output, data[\"face_vector\"])\n",
    "        if similarity > current_similarity:\n",
    "            current_similarity = similarity\n",
    "            name = data[\"name\"]\n",
    "\n",
    "    if current_similarity > 0.9:\n",
    "        lst.append(current_similarity)\n",
    "        tens.append(output)\n",
    "        return name\n",
    "    else:\n",
    "        return \"Unknown\""
   ]
  },
  {
   "cell_type": "code",
   "execution_count": 29,
   "metadata": {},
   "outputs": [],
   "source": [
    "cap = cv2.VideoCapture(0)\n",
    "cascade = cv2.CascadeClassifier(\"haarcascade_frontalface_default.xml\")\n",
    "font = cv2.FONT_HERSHEY_COMPLEX\n",
    "text = \"\"\n",
    "\n",
    "while True:\n",
    "    \n",
    "    ret, frame = cap.read()\n",
    "    rgb_frame = cv2.cvtColor(frame, cv2.COLOR_BGR2RGB)\n",
    "    gray = cv2.cvtColor(frame, cv2.COLOR_RGB2GRAY)\n",
    "    \n",
    "    border = cascade.detectMultiScale(gray)\n",
    "\n",
    "    if len(border) == 0:\n",
    "        text = \"No Face Detected\"\n",
    "     \n",
    "    if len(border) > 1:\n",
    "        text = \"Multiple Faces Detected\"\n",
    "    \n",
    "    for (x, y, w, h) in border:\n",
    "        cv2.rectangle(frame, (x, y), (x+w, y+h), (0, 255, 0), thickness=2)\n",
    "        ROI = frame[y:y+h, x:x+w]\n",
    "        text = predictFace(ROI)\n",
    "    \n",
    "    if text != \"\":\n",
    "        cv2.putText(frame, text, (frame.shape[0]//2,frame.shape[1]//2), font, 1, (0,0,255), 2)\n",
    "\n",
    "    cv2.imshow(\"frame\", frame)\n",
    "    text = \"\"\n",
    "    k = cv2.waitKey(1)\n",
    "    if k%256==27:\n",
    "        break\n",
    "\n",
    "        \n",
    "cap.release()\n",
    "cv2.destroyAllWindows()"
   ]
  },
  {
   "cell_type": "code",
   "execution_count": null,
   "metadata": {},
   "outputs": [],
   "source": []
  }
 ],
 "metadata": {
  "kernelspec": {
   "display_name": "Python 3",
   "language": "python",
   "name": "python3"
  },
  "language_info": {
   "codemirror_mode": {
    "name": "ipython",
    "version": 3
   },
   "file_extension": ".py",
   "mimetype": "text/x-python",
   "name": "python",
   "nbconvert_exporter": "python",
   "pygments_lexer": "ipython3",
   "version": "3.10.12"
  }
 },
 "nbformat": 4,
 "nbformat_minor": 2
}
